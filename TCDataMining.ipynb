{
 "cells": [
  {
   "cell_type": "code",
   "execution_count": null,
   "metadata": {},
   "outputs": [],
   "source": [
    "import numpy as np"
   ]
  }
 ],
 "metadata": {
  "interpreter": {
   "hash": "8f831c8307c7dae9d0a8cc425516edf7897e4c01712a52bc51eaa77314aa764d"
  },
  "kernelspec": {
   "display_name": "Python 3.9.5 64-bit ('datamining-TMMMTv_Z': venv)",
   "name": "python3"
  },
  "language_info": {
   "name": "python",
   "version": "3.9.5"
  },
  "orig_nbformat": 4
 },
 "nbformat": 4,
 "nbformat_minor": 2
}
